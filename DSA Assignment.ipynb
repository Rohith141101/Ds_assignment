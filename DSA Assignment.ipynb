{
 "cells": [
  {
   "cell_type": "code",
   "execution_count": 1,
   "id": "5e4de3b5-3c8d-4885-a10c-b94edb1e2662",
   "metadata": {},
   "outputs": [
    {
     "name": "stdout",
     "output_type": "stream",
     "text": [
      "Pairs with sum 7:\n",
      "(2, 5)\n",
      "(4, 3)\n",
      "(1, 6)\n"
     ]
    }
   ],
   "source": [
    "//Write a program to find all pairs of an integer array whose sum is equal to a given number?\n",
    "\n",
    "function findPairsWithSum(arr, targetSum) {\n",
    "  const pairs = [];\n",
    "\n",
    "  for (let i = 0; i < arr.length; i++) {\n",
    "    for (let j = i + 1; j < arr.length; j++) {\n",
    "      if (arr[i] + arr[j] === targetSum) {\n",
    "        pairs.push([arr[i], arr[j]]);\n",
    "      }\n",
    "    }\n",
    "  }\n",
    "\n",
    "  return pairs;\n",
    "}\n",
    "const integerArray = [2, 4, 3, 1, 5, 6];\n",
    "const targetSum = 7;\n",
    "const result = findPairsWithSum(integerArray, targetSum);\n",
    "\n",
    "console.log(`Pairs with sum ${targetSum}:`);\n",
    "result.forEach(pair => {\n",
    "  console.log(`(${pair[0]}, ${pair[1]})`);\n",
    "});"
   ]
  },
  {
   "cell_type": "code",
   "execution_count": 2,
   "id": "7fbb6d4d-cbcc-42ca-9cf0-a8e9fc5d78f1",
   "metadata": {},
   "outputs": [
    {
     "name": "stdout",
     "output_type": "stream",
     "text": [
      "[ 5, 4, 3, 2, 1 ]\n"
     ]
    }
   ],
   "source": [
    "//Write a program to reverse an array in place? In place means you cannot create a new array. You have to update the original array\n",
    "\n",
    "function reverseArrayInPlace(arr) {\n",
    "  const length = arr.length;\n",
    "  const mid = Math.floor(length / 2);\n",
    "\n",
    "  for (let i = 0; i < mid; i++) {\n",
    "    const temp = arr[i];\n",
    "    arr[i] = arr[length - 1 - i];\n",
    "    arr[length - 1 - i] = temp;\n",
    "  }\n",
    "}\n",
    "\n",
    "const myArray = [1, 2, 3, 4, 5];\n",
    "reverseArrayInPlace(myArray);\n",
    "console.log(myArray); // Output: [5, 4, 3, 2, 1]\n",
    "\n"
   ]
  },
  {
   "cell_type": "code",
   "execution_count": 3,
   "id": "00235eca-a807-4068-8b22-fb2377da6eb3",
   "metadata": {},
   "outputs": [
    {
     "name": "stdout",
     "output_type": "stream",
     "text": [
      "waterbottle and erbottlewat are rotations of each other.\n"
     ]
    }
   ],
   "source": [
    "//Write a program to check if two strings are a rotation of each other\n",
    "\n",
    "function areRotations(str1, str2) {\n",
    "  if (str1.length !== str2.length) {\n",
    "    return false;\n",
    "  }\n",
    "  const concatenatedStr = str1 + str1;\n",
    "  if (concatenatedStr.includes(str2)) {\n",
    "    return true;\n",
    "  }\n",
    "  return false;\n",
    "}\n",
    "const string1 = \"waterbottle\";\n",
    "const string2 = \"erbottlewat\";\n",
    "\n",
    "if (areRotations(string1, string2)) {\n",
    "  console.log(`${string1} and ${string2} are rotations of each other.`);\n",
    "} else {\n",
    "  console.log(`${string1} and ${string2} are not rotations of each other.`);\n",
    "}"
   ]
  },
  {
   "cell_type": "code",
   "execution_count": 4,
   "id": "e2be9959-b86b-4763-b5e1-b86a1de3c22f",
   "metadata": {},
   "outputs": [
    {
     "name": "stdout",
     "output_type": "stream",
     "text": [
      "The first non-repeated character in \"hello\" is \"h\".\n"
     ]
    }
   ],
   "source": [
    "//Write a program to print the first non-repeated character from a string\n",
    "\n",
    "function findFirstNonRepeatedChar(str) {\n",
    "  const charCount = new Map();\n",
    "  for (const char of str) {\n",
    "    if (charCount.has(char)) {\n",
    "      charCount.set(char, charCount.get(char) + 1);\n",
    "    } else {\n",
    "      charCount.set(char, 1);\n",
    "    }\n",
    "  }\n",
    "\n",
    "  for (const char of str) {\n",
    "    if (charCount.get(char) === 1) {\n",
    "      return char;\n",
    "    }\n",
    "  }\n",
    "\n",
    "  return null;\n",
    "}\n",
    "\n",
    "const inputString = \"hello\";\n",
    "const firstNonRepeatedChar = findFirstNonRepeatedChar(inputString);\n",
    "\n",
    "if (firstNonRepeatedChar !== null) {\n",
    "  console.log(`The first non-repeated character in \"${inputString}\" is \"${firstNonRepeatedChar}\".`);\n",
    "} else {\n",
    "  console.log(\"There are no non-repeated characters in the string.\");\n",
    "}"
   ]
  },
  {
   "cell_type": "code",
   "execution_count": 5,
   "id": "e59d3747-4943-48a9-a771-81586509f585",
   "metadata": {},
   "outputs": [
    {
     "name": "stdout",
     "output_type": "stream",
     "text": [
      "Tower of Hanoi with 3 disks:\n",
      "Move disk 1 from A to C\n",
      "Move disk 2 from A to B\n",
      "Move disk 1 from C to B\n",
      "Move disk 3 from A to C\n",
      "Move disk 1 from B to A\n",
      "Move disk 2 from B to C\n",
      "Move disk 1 from A to C\n"
     ]
    }
   ],
   "source": [
    "//Read about the Tower of Hanoi algorithm. Write a program to implement it\n",
    "\n",
    "function towerOfHanoi(n, sourceRod, auxiliaryRod, destinationRod) {\n",
    "  if (n === 1) {\n",
    "    console.log(`Move disk 1 from ${sourceRod} to ${destinationRod}`);\n",
    "    return;\n",
    "  }\n",
    "  towerOfHanoi(n - 1, sourceRod, destinationRod, auxiliaryRod);\n",
    "\n",
    "  console.log(`Move disk ${n} from ${sourceRod} to ${destinationRod}`);\n",
    "\n",
    "  towerOfHanoi(n - 1, auxiliaryRod, sourceRod, destinationRod);\n",
    "}\n",
    "const numberOfDisks = 3;\n",
    "const sourceRod = 'A';\n",
    "const auxiliaryRod = 'B';\n",
    "const destinationRod = 'C';\n",
    "\n",
    "console.log(`Tower of Hanoi with ${numberOfDisks} disks:`);\n",
    "towerOfHanoi(numberOfDisks, sourceRod, auxiliaryRod, destinationRod);"
   ]
  },
  {
   "cell_type": "code",
   "execution_count": 6,
   "id": "479612f2-1d6d-4abd-a8eb-697dbc95ab70",
   "metadata": {},
   "outputs": [
    {
     "name": "stdout",
     "output_type": "stream",
     "text": [
      "Postfix: 5 4 * 7 2 / +\n",
      "Prefix: + * 5 4 / 7 2\n"
     ]
    }
   ],
   "source": [
    "// Read about infix, prefix, and postfix expressions. Write a program to convert postfix to prefix expression\n",
    "\n",
    "function postfixToPrefix(postfixExpression) {\n",
    "  const stack = [];\n",
    "\n",
    "  function isOperator(char) {\n",
    "    return ['+', '-', '*', '/'].includes(char);\n",
    "  }\n",
    "\n",
    "  for (const token of postfixExpression.split(' ')) {\n",
    "    if (!isOperator(token)) {\n",
    "      stack.push(token);\n",
    "    } else {\n",
    "      const operand2 = stack.pop();\n",
    "      const operand1 = stack.pop();\n",
    "      const newExpression = `${token} ${operand1} ${operand2}`;\n",
    "      stack.push(newExpression);\n",
    "    }\n",
    "  }\n",
    "  return stack[0];\n",
    "}\n",
    "const postfixExpression = '5 4 * 7 2 / +';\n",
    "const prefixExpression = postfixToPrefix(postfixExpression);\n",
    "console.log(`Postfix: ${postfixExpression}`);\n",
    "console.log(`Prefix: ${prefixExpression}`);"
   ]
  },
  {
   "cell_type": "code",
   "execution_count": 7,
   "id": "4662d173-242c-4b76-9a78-fb8ecfb83820",
   "metadata": {},
   "outputs": [
    {
     "name": "stdout",
     "output_type": "stream",
     "text": [
      "Prefix Expression: * + 2 3 4\n",
      "Infix Expression: ((2 + 3) * 4)\n"
     ]
    }
   ],
   "source": [
    "class MyStack {\n",
    "  constructor() {\n",
    "    this.items = [];\n",
    "  }\n",
    "\n",
    "  push(item) {\n",
    "    this.items.push(item);\n",
    "  }\n",
    "\n",
    "  pop() {\n",
    "    if (!this.isEmpty()) {\n",
    "      return this.items.pop();\n",
    "    }\n",
    "  }\n",
    "\n",
    "  peek() {\n",
    "    if (!this.isEmpty()) {\n",
    "      return this.items[this.items.length - 1];\n",
    "    }\n",
    "  }\n",
    "\n",
    "  isEmpty() {\n",
    "    return this.items.length === 0;\n",
    "  }\n",
    "}\n",
    "\n",
    "function isOperator(char) {\n",
    "  return ['+', '-', '*', '/'].includes(char);\n",
    "}\n",
    "\n",
    "function prefixToInfix(prefix) {\n",
    "  const stack = new MyStack();\n",
    "  const tokens = prefix.split(' ');\n",
    "\n",
    "  for (let i = tokens.length - 1; i >= 0; i--) {\n",
    "    const token = tokens[i];\n",
    "    if (!isOperator(token)) {\n",
    "      stack.push(token);\n",
    "    } else {\n",
    "      const operand1 = stack.pop();\n",
    "      const operand2 = stack.pop();\n",
    "      const infixExpression = `(${operand1} ${token} ${operand2})`;\n",
    "      stack.push(infixExpression);\n",
    "    }\n",
    "  }\n",
    "\n",
    "  return stack.pop();\n",
    "}\n",
    "\n",
    "const preExpression = '* + 2 3 4';\n",
    "const infixExpression = prefixToInfix(preExpression);\n",
    "\n",
    "console.log(\"Prefix Expression:\", preExpression);\n",
    "console.log(\"Infix Expression:\", infixExpression);\n"
   ]
  },
  {
   "cell_type": "code",
   "execution_count": 8,
   "id": "47981fe6-f9c2-4116-8e26-78d55608369d",
   "metadata": {},
   "outputs": [
    {
     "name": "stdout",
     "output_type": "stream",
     "text": [
      "All brackets are closed properly.\n"
     ]
    }
   ],
   "source": [
    "//Write a program to check if all the brackets are closed in a given code snippet\n",
    "\n",
    "function areBracketsClosed(codeSnippet) {\n",
    "  const stack = [];\n",
    "  const brackets = {\n",
    "    '(': ')',\n",
    "    '{': '}',\n",
    "    '[': ']',\n",
    "  };\n",
    "\n",
    "  for (const char of codeSnippet) {\n",
    "    if (brackets[char]) {\n",
    "      stack.push(char);\n",
    "    } else if (Object.values(brackets).includes(char)) {\n",
    "      const topBracket = stack.pop();\n",
    "      if (brackets[topBracket] !== char) {\n",
    "        return false; // Mismatched brackets\n",
    "      }\n",
    "    }\n",
    "  }\n",
    "  return stack.length === 0;\n",
    "}\n",
    "\n",
    "const codeSnippet = 'function foo() { if (true) { return [1, 2]; } }';\n",
    "if (areBracketsClosed(codeSnippet)) {\n",
    "  console.log('All brackets are closed properly.');\n",
    "} else {\n",
    "  console.log('Brackets are not closed properly.');\n",
    "}"
   ]
  },
  {
   "cell_type": "code",
   "execution_count": 9,
   "id": "0602b045-a85f-40e4-ab55-febbcacbeef3",
   "metadata": {},
   "outputs": [
    {
     "name": "stdout",
     "output_type": "stream",
     "text": [
      "Original Stack (Array): [ 4, 3, 2, 1 ]\n",
      "Reversed Stack (Array): [ 1, 2, 3, 4 ]\n"
     ]
    }
   ],
   "source": [
    "//Write a program to reverse a stack.\n",
    "\n",
    "class Stack {\n",
    "  constructor() {\n",
    "    this.items = [];\n",
    "  }\n",
    "\n",
    "  push(item) {\n",
    "    this.items.push(item);\n",
    "  }\n",
    "\n",
    "  pop() {\n",
    "    if (!this.isEmpty()) {\n",
    "      return this.items.pop();\n",
    "    }\n",
    "  }\n",
    "\n",
    "  isEmpty() {\n",
    "    return this.items.length === 0;\n",
    "  }\n",
    "\n",
    "  peek() {\n",
    "    if (!this.isEmpty()) {\n",
    "      return this.items[this.items.length - 1];\n",
    "    }\n",
    "  }\n",
    "}\n",
    "\n",
    "function reverseStack(stack) {\n",
    "  const reversedStack = new Stack();\n",
    "  const originalStackArray = [];\n",
    "\n",
    "  while (!stack.isEmpty()) {\n",
    "    const item = stack.pop();\n",
    "    reversedStack.push(item);\n",
    "    originalStackArray.push(item);\n",
    "  }\n",
    "\n",
    "  const reversedStackArray = [];\n",
    "  while (!reversedStack.isEmpty()) {\n",
    "    reversedStackArray.push(reversedStack.pop());\n",
    "  }\n",
    "\n",
    "  return { reversedStackArray, originalStackArray };\n",
    "}\n",
    "\n",
    "// Example usage:\n",
    "const originalStack = new Stack();\n",
    "originalStack.push(1);\n",
    "originalStack.push(2);\n",
    "originalStack.push(3);\n",
    "originalStack.push(4);\n",
    "\n",
    "const { reversedStackArray, originalStackArray } = reverseStack(originalStack);\n",
    "\n",
    "console.log(\"Original Stack (Array):\", originalStackArray);\n",
    "console.log(\"Reversed Stack (Array):\", reversedStackArray);\n",
    "\n",
    "\n"
   ]
  },
  {
   "cell_type": "code",
   "execution_count": 10,
   "id": "59a5a577-de38-4517-aa89-be2fb1368d0d",
   "metadata": {},
   "outputs": [
    {
     "name": "stdout",
     "output_type": "stream",
     "text": [
      "Minimum element: 1\n"
     ]
    }
   ],
   "source": [
    "//Write a program to find the smallest number using a stack\n",
    "\n",
    "class MinStack {\n",
    "  constructor() {\n",
    "    this.dataStack = []; // Stack to store elements\n",
    "    this.minStack = [];  // Stack to track minimum elements\n",
    "  }\n",
    "  push(item) {\n",
    "    this.dataStack.push(item);\n",
    "    if (this.minStack.length === 0 || item <= this.minStack[this.minStack.length - 1]) {\n",
    "      this.minStack.push(item);\n",
    "    }\n",
    "  }\n",
    "\n",
    "  pop() {\n",
    "    if (!this.isEmpty()) {\n",
    "      if (this.dataStack[this.dataStack.length - 1] === this.minStack[this.minStack.length - 1]) {\n",
    "        this.minStack.pop();\n",
    "      }\n",
    "      return this.dataStack.pop();\n",
    "    }\n",
    "    return null;\n",
    "  }\n",
    "\n",
    "  top() {\n",
    "    if (!this.isEmpty()) {\n",
    "      return this.dataStack[this.dataStack.length - 1];\n",
    "    }\n",
    "    return null;\n",
    "  }\n",
    "\n",
    "  getMin() {\n",
    "    if (!this.isEmpty()) {\n",
    "      return this.minStack[this.minStack.length - 1];\n",
    "    }\n",
    "    return null;\n",
    "  }\n",
    "  isEmpty() {\n",
    "    return this.dataStack.length === 0;\n",
    "  }\n",
    "}\n",
    "\n",
    "const minStack = new MinStack();\n",
    "minStack.push(3);\n",
    "minStack.push(5);\n",
    "minStack.push(2);\n",
    "minStack.push(1);\n",
    "\n",
    "console.log(`Minimum element: ${minStack.getMin()}`); // Output: 1"
   ]
  }
 ],
 "metadata": {
  "kernelspec": {
   "display_name": "JavaScript (Node.js)",
   "language": "javascript",
   "name": "javascript"
  },
  "language_info": {
   "file_extension": ".js",
   "mimetype": "application/javascript",
   "name": "javascript",
   "version": "18.17.0"
  }
 },
 "nbformat": 4,
 "nbformat_minor": 5
}
